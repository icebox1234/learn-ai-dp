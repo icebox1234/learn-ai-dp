{
 "cells": [
  {
   "cell_type": "code",
   "execution_count": 1,
   "id": "32e15c2e-f256-4de3-8818-a2de97a2cfdd",
   "metadata": {},
   "outputs": [
    {
     "name": "stdout",
     "output_type": "stream",
     "text": [
      "Looking in indexes: https://pypi.tuna.tsinghua.edu.cn/simple\n",
      "Requirement already satisfied: openai in /home/icebox1234/miniconda3/envs/deepseek/lib/python3.13/site-packages (2.3.0)\n",
      "Requirement already satisfied: requests in /home/icebox1234/miniconda3/envs/deepseek/lib/python3.13/site-packages (2.32.5)\n",
      "Requirement already satisfied: tqdm in /home/icebox1234/miniconda3/envs/deepseek/lib/python3.13/site-packages (4.67.1)\n",
      "Requirement already satisfied: torch in /home/icebox1234/miniconda3/envs/deepseek/lib/python3.13/site-packages (2.8.0)\n",
      "Requirement already satisfied: dotenv in /home/icebox1234/miniconda3/envs/deepseek/lib/python3.13/site-packages (0.9.9)\n",
      "Requirement already satisfied: hf_xet in /home/icebox1234/miniconda3/envs/deepseek/lib/python3.13/site-packages (1.1.10)\n",
      "Requirement already satisfied: pymilvus[model] in /home/icebox1234/miniconda3/envs/deepseek/lib/python3.13/site-packages (2.6.2)\n",
      "Requirement already satisfied: setuptools>69 in /home/icebox1234/miniconda3/envs/deepseek/lib/python3.13/site-packages (from pymilvus[model]) (80.9.0)\n",
      "Requirement already satisfied: grpcio!=1.68.0,!=1.68.1,!=1.69.0,!=1.70.0,!=1.70.1,!=1.71.0,!=1.72.1,!=1.73.0,>=1.66.2 in /home/icebox1234/miniconda3/envs/deepseek/lib/python3.13/site-packages (from pymilvus[model]) (1.75.1)\n",
      "Requirement already satisfied: protobuf>=5.27.2 in /home/icebox1234/miniconda3/envs/deepseek/lib/python3.13/site-packages (from pymilvus[model]) (6.32.1)\n",
      "Requirement already satisfied: python-dotenv<2.0.0,>=1.0.1 in /home/icebox1234/miniconda3/envs/deepseek/lib/python3.13/site-packages (from pymilvus[model]) (1.1.1)\n",
      "Requirement already satisfied: ujson>=2.0.0 in /home/icebox1234/miniconda3/envs/deepseek/lib/python3.13/site-packages (from pymilvus[model]) (5.11.0)\n",
      "Requirement already satisfied: pandas>=1.2.4 in /home/icebox1234/miniconda3/envs/deepseek/lib/python3.13/site-packages (from pymilvus[model]) (2.3.3)\n",
      "Requirement already satisfied: pymilvus.model>=0.3.0 in /home/icebox1234/miniconda3/envs/deepseek/lib/python3.13/site-packages (from pymilvus[model]) (0.3.2)\n",
      "Requirement already satisfied: anyio<5,>=3.5.0 in /home/icebox1234/miniconda3/envs/deepseek/lib/python3.13/site-packages (from openai) (4.11.0)\n",
      "Requirement already satisfied: distro<2,>=1.7.0 in /home/icebox1234/miniconda3/envs/deepseek/lib/python3.13/site-packages (from openai) (1.9.0)\n",
      "Requirement already satisfied: httpx<1,>=0.23.0 in /home/icebox1234/miniconda3/envs/deepseek/lib/python3.13/site-packages (from openai) (0.28.1)\n",
      "Requirement already satisfied: jiter<1,>=0.10.0 in /home/icebox1234/miniconda3/envs/deepseek/lib/python3.13/site-packages (from openai) (0.11.0)\n",
      "Requirement already satisfied: pydantic<3,>=1.9.0 in /home/icebox1234/miniconda3/envs/deepseek/lib/python3.13/site-packages (from openai) (2.12.2)\n",
      "Requirement already satisfied: sniffio in /home/icebox1234/miniconda3/envs/deepseek/lib/python3.13/site-packages (from openai) (1.3.1)\n",
      "Requirement already satisfied: typing-extensions<5,>=4.11 in /home/icebox1234/miniconda3/envs/deepseek/lib/python3.13/site-packages (from openai) (4.15.0)\n",
      "Requirement already satisfied: idna>=2.8 in /home/icebox1234/miniconda3/envs/deepseek/lib/python3.13/site-packages (from anyio<5,>=3.5.0->openai) (3.11)\n",
      "Requirement already satisfied: certifi in /home/icebox1234/miniconda3/envs/deepseek/lib/python3.13/site-packages (from httpx<1,>=0.23.0->openai) (2025.10.5)\n",
      "Requirement already satisfied: httpcore==1.* in /home/icebox1234/miniconda3/envs/deepseek/lib/python3.13/site-packages (from httpx<1,>=0.23.0->openai) (1.0.9)\n",
      "Requirement already satisfied: h11>=0.16 in /home/icebox1234/miniconda3/envs/deepseek/lib/python3.13/site-packages (from httpcore==1.*->httpx<1,>=0.23.0->openai) (0.16.0)\n",
      "Requirement already satisfied: annotated-types>=0.6.0 in /home/icebox1234/miniconda3/envs/deepseek/lib/python3.13/site-packages (from pydantic<3,>=1.9.0->openai) (0.7.0)\n",
      "Requirement already satisfied: pydantic-core==2.41.4 in /home/icebox1234/miniconda3/envs/deepseek/lib/python3.13/site-packages (from pydantic<3,>=1.9.0->openai) (2.41.4)\n",
      "Requirement already satisfied: typing-inspection>=0.4.2 in /home/icebox1234/miniconda3/envs/deepseek/lib/python3.13/site-packages (from pydantic<3,>=1.9.0->openai) (0.4.2)\n",
      "Requirement already satisfied: charset_normalizer<4,>=2 in /home/icebox1234/miniconda3/envs/deepseek/lib/python3.13/site-packages (from requests) (3.4.4)\n",
      "Requirement already satisfied: urllib3<3,>=1.21.1 in /home/icebox1234/miniconda3/envs/deepseek/lib/python3.13/site-packages (from requests) (2.5.0)\n",
      "Requirement already satisfied: filelock in /home/icebox1234/miniconda3/envs/deepseek/lib/python3.13/site-packages (from torch) (3.20.0)\n",
      "Requirement already satisfied: sympy>=1.13.3 in /home/icebox1234/miniconda3/envs/deepseek/lib/python3.13/site-packages (from torch) (1.14.0)\n",
      "Requirement already satisfied: networkx in /home/icebox1234/miniconda3/envs/deepseek/lib/python3.13/site-packages (from torch) (3.5)\n",
      "Requirement already satisfied: jinja2 in /home/icebox1234/miniconda3/envs/deepseek/lib/python3.13/site-packages (from torch) (3.1.6)\n",
      "Requirement already satisfied: fsspec in /home/icebox1234/miniconda3/envs/deepseek/lib/python3.13/site-packages (from torch) (2025.9.0)\n",
      "Requirement already satisfied: nvidia-cuda-nvrtc-cu12==12.8.93 in /home/icebox1234/miniconda3/envs/deepseek/lib/python3.13/site-packages (from torch) (12.8.93)\n",
      "Requirement already satisfied: nvidia-cuda-runtime-cu12==12.8.90 in /home/icebox1234/miniconda3/envs/deepseek/lib/python3.13/site-packages (from torch) (12.8.90)\n",
      "Requirement already satisfied: nvidia-cuda-cupti-cu12==12.8.90 in /home/icebox1234/miniconda3/envs/deepseek/lib/python3.13/site-packages (from torch) (12.8.90)\n",
      "Requirement already satisfied: nvidia-cudnn-cu12==9.10.2.21 in /home/icebox1234/miniconda3/envs/deepseek/lib/python3.13/site-packages (from torch) (9.10.2.21)\n",
      "Requirement already satisfied: nvidia-cublas-cu12==12.8.4.1 in /home/icebox1234/miniconda3/envs/deepseek/lib/python3.13/site-packages (from torch) (12.8.4.1)\n",
      "Requirement already satisfied: nvidia-cufft-cu12==11.3.3.83 in /home/icebox1234/miniconda3/envs/deepseek/lib/python3.13/site-packages (from torch) (11.3.3.83)\n",
      "Requirement already satisfied: nvidia-curand-cu12==10.3.9.90 in /home/icebox1234/miniconda3/envs/deepseek/lib/python3.13/site-packages (from torch) (10.3.9.90)\n",
      "Requirement already satisfied: nvidia-cusolver-cu12==11.7.3.90 in /home/icebox1234/miniconda3/envs/deepseek/lib/python3.13/site-packages (from torch) (11.7.3.90)\n",
      "Requirement already satisfied: nvidia-cusparse-cu12==12.5.8.93 in /home/icebox1234/miniconda3/envs/deepseek/lib/python3.13/site-packages (from torch) (12.5.8.93)\n",
      "Requirement already satisfied: nvidia-cusparselt-cu12==0.7.1 in /home/icebox1234/miniconda3/envs/deepseek/lib/python3.13/site-packages (from torch) (0.7.1)\n",
      "Requirement already satisfied: nvidia-nccl-cu12==2.27.3 in /home/icebox1234/miniconda3/envs/deepseek/lib/python3.13/site-packages (from torch) (2.27.3)\n",
      "Requirement already satisfied: nvidia-nvtx-cu12==12.8.90 in /home/icebox1234/miniconda3/envs/deepseek/lib/python3.13/site-packages (from torch) (12.8.90)\n",
      "Requirement already satisfied: nvidia-nvjitlink-cu12==12.8.93 in /home/icebox1234/miniconda3/envs/deepseek/lib/python3.13/site-packages (from torch) (12.8.93)\n",
      "Requirement already satisfied: nvidia-cufile-cu12==1.13.1.3 in /home/icebox1234/miniconda3/envs/deepseek/lib/python3.13/site-packages (from torch) (1.13.1.3)\n",
      "Requirement already satisfied: triton==3.4.0 in /home/icebox1234/miniconda3/envs/deepseek/lib/python3.13/site-packages (from torch) (3.4.0)\n",
      "Requirement already satisfied: numpy>=1.26.0 in /home/icebox1234/miniconda3/envs/deepseek/lib/python3.13/site-packages (from pandas>=1.2.4->pymilvus[model]) (2.3.3)\n",
      "Requirement already satisfied: python-dateutil>=2.8.2 in /home/icebox1234/miniconda3/envs/deepseek/lib/python3.13/site-packages (from pandas>=1.2.4->pymilvus[model]) (2.9.0.post0)\n",
      "Requirement already satisfied: pytz>=2020.1 in /home/icebox1234/miniconda3/envs/deepseek/lib/python3.13/site-packages (from pandas>=1.2.4->pymilvus[model]) (2025.2)\n",
      "Requirement already satisfied: tzdata>=2022.7 in /home/icebox1234/miniconda3/envs/deepseek/lib/python3.13/site-packages (from pandas>=1.2.4->pymilvus[model]) (2025.2)\n",
      "Requirement already satisfied: transformers>=4.36.0 in /home/icebox1234/miniconda3/envs/deepseek/lib/python3.13/site-packages (from pymilvus.model>=0.3.0->pymilvus[model]) (4.57.1)\n",
      "Requirement already satisfied: onnxruntime in /home/icebox1234/miniconda3/envs/deepseek/lib/python3.13/site-packages (from pymilvus.model>=0.3.0->pymilvus[model]) (1.23.1)\n",
      "Requirement already satisfied: scipy>=1.10.0 in /home/icebox1234/miniconda3/envs/deepseek/lib/python3.13/site-packages (from pymilvus.model>=0.3.0->pymilvus[model]) (1.16.2)\n",
      "Requirement already satisfied: six>=1.5 in /home/icebox1234/miniconda3/envs/deepseek/lib/python3.13/site-packages (from python-dateutil>=2.8.2->pandas>=1.2.4->pymilvus[model]) (1.17.0)\n",
      "Requirement already satisfied: mpmath<1.4,>=1.1.0 in /home/icebox1234/miniconda3/envs/deepseek/lib/python3.13/site-packages (from sympy>=1.13.3->torch) (1.3.0)\n",
      "Requirement already satisfied: huggingface-hub<1.0,>=0.34.0 in /home/icebox1234/miniconda3/envs/deepseek/lib/python3.13/site-packages (from transformers>=4.36.0->pymilvus.model>=0.3.0->pymilvus[model]) (0.35.3)\n",
      "Requirement already satisfied: packaging>=20.0 in /home/icebox1234/miniconda3/envs/deepseek/lib/python3.13/site-packages (from transformers>=4.36.0->pymilvus.model>=0.3.0->pymilvus[model]) (25.0)\n",
      "Requirement already satisfied: pyyaml>=5.1 in /home/icebox1234/miniconda3/envs/deepseek/lib/python3.13/site-packages (from transformers>=4.36.0->pymilvus.model>=0.3.0->pymilvus[model]) (6.0.3)\n",
      "Requirement already satisfied: regex!=2019.12.17 in /home/icebox1234/miniconda3/envs/deepseek/lib/python3.13/site-packages (from transformers>=4.36.0->pymilvus.model>=0.3.0->pymilvus[model]) (2025.9.18)\n",
      "Requirement already satisfied: tokenizers<=0.23.0,>=0.22.0 in /home/icebox1234/miniconda3/envs/deepseek/lib/python3.13/site-packages (from transformers>=4.36.0->pymilvus.model>=0.3.0->pymilvus[model]) (0.22.1)\n",
      "Requirement already satisfied: safetensors>=0.4.3 in /home/icebox1234/miniconda3/envs/deepseek/lib/python3.13/site-packages (from transformers>=4.36.0->pymilvus.model>=0.3.0->pymilvus[model]) (0.6.2)\n",
      "Requirement already satisfied: MarkupSafe>=2.0 in /home/icebox1234/miniconda3/envs/deepseek/lib/python3.13/site-packages (from jinja2->torch) (3.0.3)\n",
      "Requirement already satisfied: coloredlogs in /home/icebox1234/miniconda3/envs/deepseek/lib/python3.13/site-packages (from onnxruntime->pymilvus.model>=0.3.0->pymilvus[model]) (15.0.1)\n",
      "Requirement already satisfied: flatbuffers in /home/icebox1234/miniconda3/envs/deepseek/lib/python3.13/site-packages (from onnxruntime->pymilvus.model>=0.3.0->pymilvus[model]) (25.9.23)\n",
      "Requirement already satisfied: humanfriendly>=9.1 in /home/icebox1234/miniconda3/envs/deepseek/lib/python3.13/site-packages (from coloredlogs->onnxruntime->pymilvus.model>=0.3.0->pymilvus[model]) (10.0)\n"
     ]
    }
   ],
   "source": [
    "!pip install --upgrade pymilvus[model] openai requests tqdm torch dotenv hf_xet"
   ]
  },
  {
   "cell_type": "code",
   "execution_count": 2,
   "id": "7c9079ee-6e6e-420d-bbcd-cf76ccbd4807",
   "metadata": {},
   "outputs": [
    {
     "name": "stdout",
     "output_type": "stream",
     "text": [
      "sk-ae8a9803081a4e5c9b1f1cf75586923e\n"
     ]
    }
   ],
   "source": [
    "import os\n",
    "from dotenv import load_dotenv\n",
    "load_dotenv()\n",
    "api_key = os.getenv(\"DEEPSEEK_API_KEY\")\n",
    "print(api_key)"
   ]
  },
  {
   "cell_type": "code",
   "execution_count": 3,
   "id": "59e93b05-f11f-4cd5-9a2b-d63a36686ae7",
   "metadata": {},
   "outputs": [],
   "source": [
    "os.environ[\"HTTP_PROXY\"] = \"http://127.0.0.1:7890\"\n",
    "os.environ[\"HTTPS_PROXY\"] = \"http://127.0.0.1:7890\""
   ]
  },
  {
   "cell_type": "code",
   "execution_count": 4,
   "id": "4d60cfd7-c343-4404-80b5-688831a2b08e",
   "metadata": {},
   "outputs": [],
   "source": [
    "from openai import OpenAI\n",
    "deepseek_client = OpenAI(\n",
    "    api_key = api_key,\n",
    "    base_url = \"https://api.deepseek.com\"\n",
    ")"
   ]
  },
  {
   "cell_type": "code",
   "execution_count": 5,
   "id": "94a2b7be-4724-467d-b338-b03fa0c7cf2c",
   "metadata": {},
   "outputs": [
    {
     "name": "stderr",
     "output_type": "stream",
     "text": [
      "/home/icebox1234/miniconda3/envs/deepseek/lib/python3.13/site-packages/tqdm/auto.py:21: TqdmWarning: IProgress not found. Please update jupyter and ipywidgets. See https://ipywidgets.readthedocs.io/en/stable/user_install.html\n",
      "  from .autonotebook import tqdm as notebook_tqdm\n"
     ]
    }
   ],
   "source": [
    "from pymilvus import model as milvus_model\n",
    "embedding_model = milvus_model.DefaultEmbeddingFunction()"
   ]
  },
  {
   "cell_type": "code",
   "execution_count": 6,
   "id": "402a5bc5-1d41-4c34-b485-03c51d166d33",
   "metadata": {},
   "outputs": [
    {
     "name": "stdout",
     "output_type": "stream",
     "text": [
      "768\n",
      "[-0.04836059  0.07163021 -0.01130063 -0.03789341 -0.03320651 -0.01318453\n",
      " -0.03041721 -0.02269495 -0.02317858 -0.00426026]\n"
     ]
    }
   ],
   "source": [
    "test_embedding = embedding_model.encode_queries([\"This is a test\"])[0]\n",
    "embedding_dim = len(test_embedding)\n",
    "print(embedding_dim)\n",
    "print(test_embedding[:10])"
   ]
  },
  {
   "cell_type": "code",
   "execution_count": 8,
   "id": "9918ba11-3876-42af-8137-f61181d7cc72",
   "metadata": {},
   "outputs": [],
   "source": [
    "from pymilvus import MilvusClient\n",
    "\n",
    "milvus_client = MilvusClient(uri=\"./milvus_demo.db\")"
   ]
  },
  {
   "cell_type": "code",
   "execution_count": null,
   "id": "27358d50-79bf-4f02-918e-8c5acadf53bb",
   "metadata": {},
   "outputs": [],
   "source": []
  }
 ],
 "metadata": {
  "kernelspec": {
   "display_name": "Python 3 (ipykernel)",
   "language": "python",
   "name": "python3"
  },
  "language_info": {
   "codemirror_mode": {
    "name": "ipython",
    "version": 3
   },
   "file_extension": ".py",
   "mimetype": "text/x-python",
   "name": "python",
   "nbconvert_exporter": "python",
   "pygments_lexer": "ipython3",
   "version": "3.13.7"
  }
 },
 "nbformat": 4,
 "nbformat_minor": 5
}
