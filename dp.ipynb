{
 "cells": [
  {
   "cell_type": "code",
   "execution_count": 1,
   "id": "32e15c2e-f256-4de3-8818-a2de97a2cfdd",
   "metadata": {},
   "outputs": [
    {
     "name": "stdout",
     "output_type": "stream",
     "text": [
      "Requirement already satisfied: openai in c:\\users\\icebox\\miniconda3\\envs\\deepseek\\lib\\site-packages (2.3.0)\n",
      "Requirement already satisfied: requests in c:\\users\\icebox\\miniconda3\\envs\\deepseek\\lib\\site-packages (2.32.5)\n",
      "Requirement already satisfied: tqdm in c:\\users\\icebox\\miniconda3\\envs\\deepseek\\lib\\site-packages (4.67.1)\n",
      "Requirement already satisfied: torch in c:\\users\\icebox\\miniconda3\\envs\\deepseek\\lib\\site-packages (2.8.0)\n",
      "Requirement already satisfied: dotenv in c:\\users\\icebox\\miniconda3\\envs\\deepseek\\lib\\site-packages (0.9.9)\n",
      "Collecting hf_xet\n",
      "  Downloading hf_xet-1.1.10-cp37-abi3-win_amd64.whl.metadata (4.7 kB)\n",
      "Requirement already satisfied: pymilvus[model] in c:\\users\\icebox\\miniconda3\\envs\\deepseek\\lib\\site-packages (2.6.2)\n",
      "Requirement already satisfied: setuptools>69 in c:\\users\\icebox\\miniconda3\\envs\\deepseek\\lib\\site-packages (from pymilvus[model]) (80.9.0)\n",
      "Requirement already satisfied: grpcio!=1.68.0,!=1.68.1,!=1.69.0,!=1.70.0,!=1.70.1,!=1.71.0,!=1.72.1,!=1.73.0,>=1.66.2 in c:\\users\\icebox\\miniconda3\\envs\\deepseek\\lib\\site-packages (from pymilvus[model]) (1.75.1)\n",
      "Requirement already satisfied: protobuf>=5.27.2 in c:\\users\\icebox\\miniconda3\\envs\\deepseek\\lib\\site-packages (from pymilvus[model]) (6.32.1)\n",
      "Requirement already satisfied: python-dotenv<2.0.0,>=1.0.1 in c:\\users\\icebox\\miniconda3\\envs\\deepseek\\lib\\site-packages (from pymilvus[model]) (1.1.1)\n",
      "Requirement already satisfied: ujson>=2.0.0 in c:\\users\\icebox\\miniconda3\\envs\\deepseek\\lib\\site-packages (from pymilvus[model]) (5.11.0)\n",
      "Requirement already satisfied: pandas>=1.2.4 in c:\\users\\icebox\\miniconda3\\envs\\deepseek\\lib\\site-packages (from pymilvus[model]) (2.3.3)\n",
      "Requirement already satisfied: pymilvus.model>=0.3.0 in c:\\users\\icebox\\miniconda3\\envs\\deepseek\\lib\\site-packages (from pymilvus[model]) (0.3.2)\n",
      "Requirement already satisfied: anyio<5,>=3.5.0 in c:\\users\\icebox\\miniconda3\\envs\\deepseek\\lib\\site-packages (from openai) (4.11.0)\n",
      "Requirement already satisfied: distro<2,>=1.7.0 in c:\\users\\icebox\\miniconda3\\envs\\deepseek\\lib\\site-packages (from openai) (1.9.0)\n",
      "Requirement already satisfied: httpx<1,>=0.23.0 in c:\\users\\icebox\\miniconda3\\envs\\deepseek\\lib\\site-packages (from openai) (0.28.1)\n",
      "Requirement already satisfied: jiter<1,>=0.10.0 in c:\\users\\icebox\\miniconda3\\envs\\deepseek\\lib\\site-packages (from openai) (0.11.0)\n",
      "Requirement already satisfied: pydantic<3,>=1.9.0 in c:\\users\\icebox\\miniconda3\\envs\\deepseek\\lib\\site-packages (from openai) (2.12.1)\n",
      "Requirement already satisfied: sniffio in c:\\users\\icebox\\miniconda3\\envs\\deepseek\\lib\\site-packages (from openai) (1.3.1)\n",
      "Requirement already satisfied: typing-extensions<5,>=4.11 in c:\\users\\icebox\\miniconda3\\envs\\deepseek\\lib\\site-packages (from openai) (4.15.0)\n",
      "Requirement already satisfied: idna>=2.8 in c:\\users\\icebox\\miniconda3\\envs\\deepseek\\lib\\site-packages (from anyio<5,>=3.5.0->openai) (3.11)\n",
      "Requirement already satisfied: certifi in c:\\users\\icebox\\miniconda3\\envs\\deepseek\\lib\\site-packages (from httpx<1,>=0.23.0->openai) (2025.10.5)\n",
      "Requirement already satisfied: httpcore==1.* in c:\\users\\icebox\\miniconda3\\envs\\deepseek\\lib\\site-packages (from httpx<1,>=0.23.0->openai) (1.0.9)\n",
      "Requirement already satisfied: h11>=0.16 in c:\\users\\icebox\\miniconda3\\envs\\deepseek\\lib\\site-packages (from httpcore==1.*->httpx<1,>=0.23.0->openai) (0.16.0)\n",
      "Requirement already satisfied: annotated-types>=0.6.0 in c:\\users\\icebox\\miniconda3\\envs\\deepseek\\lib\\site-packages (from pydantic<3,>=1.9.0->openai) (0.7.0)\n",
      "Requirement already satisfied: pydantic-core==2.41.3 in c:\\users\\icebox\\miniconda3\\envs\\deepseek\\lib\\site-packages (from pydantic<3,>=1.9.0->openai) (2.41.3)\n",
      "Requirement already satisfied: typing-inspection>=0.4.2 in c:\\users\\icebox\\miniconda3\\envs\\deepseek\\lib\\site-packages (from pydantic<3,>=1.9.0->openai) (0.4.2)\n",
      "Requirement already satisfied: charset_normalizer<4,>=2 in c:\\users\\icebox\\miniconda3\\envs\\deepseek\\lib\\site-packages (from requests) (3.4.4)\n",
      "Requirement already satisfied: urllib3<3,>=1.21.1 in c:\\users\\icebox\\miniconda3\\envs\\deepseek\\lib\\site-packages (from requests) (2.5.0)\n",
      "Requirement already satisfied: colorama in c:\\users\\icebox\\miniconda3\\envs\\deepseek\\lib\\site-packages (from tqdm) (0.4.6)\n",
      "Requirement already satisfied: filelock in c:\\users\\icebox\\miniconda3\\envs\\deepseek\\lib\\site-packages (from torch) (3.20.0)\n",
      "Requirement already satisfied: sympy>=1.13.3 in c:\\users\\icebox\\miniconda3\\envs\\deepseek\\lib\\site-packages (from torch) (1.14.0)\n",
      "Requirement already satisfied: networkx in c:\\users\\icebox\\miniconda3\\envs\\deepseek\\lib\\site-packages (from torch) (3.5)\n",
      "Requirement already satisfied: jinja2 in c:\\users\\icebox\\miniconda3\\envs\\deepseek\\lib\\site-packages (from torch) (3.1.6)\n",
      "Requirement already satisfied: fsspec in c:\\users\\icebox\\miniconda3\\envs\\deepseek\\lib\\site-packages (from torch) (2025.9.0)\n",
      "Requirement already satisfied: numpy>=1.26.0 in c:\\users\\icebox\\miniconda3\\envs\\deepseek\\lib\\site-packages (from pandas>=1.2.4->pymilvus[model]) (2.3.3)\n",
      "Requirement already satisfied: python-dateutil>=2.8.2 in c:\\users\\icebox\\miniconda3\\envs\\deepseek\\lib\\site-packages (from pandas>=1.2.4->pymilvus[model]) (2.9.0.post0)\n",
      "Requirement already satisfied: pytz>=2020.1 in c:\\users\\icebox\\miniconda3\\envs\\deepseek\\lib\\site-packages (from pandas>=1.2.4->pymilvus[model]) (2025.2)\n",
      "Requirement already satisfied: tzdata>=2022.7 in c:\\users\\icebox\\miniconda3\\envs\\deepseek\\lib\\site-packages (from pandas>=1.2.4->pymilvus[model]) (2025.2)\n",
      "Requirement already satisfied: transformers>=4.36.0 in c:\\users\\icebox\\miniconda3\\envs\\deepseek\\lib\\site-packages (from pymilvus.model>=0.3.0->pymilvus[model]) (4.57.0)\n",
      "Requirement already satisfied: onnxruntime in c:\\users\\icebox\\miniconda3\\envs\\deepseek\\lib\\site-packages (from pymilvus.model>=0.3.0->pymilvus[model]) (1.23.1)\n",
      "Requirement already satisfied: scipy>=1.10.0 in c:\\users\\icebox\\miniconda3\\envs\\deepseek\\lib\\site-packages (from pymilvus.model>=0.3.0->pymilvus[model]) (1.16.2)\n",
      "Requirement already satisfied: six>=1.5 in c:\\users\\icebox\\miniconda3\\envs\\deepseek\\lib\\site-packages (from python-dateutil>=2.8.2->pandas>=1.2.4->pymilvus[model]) (1.17.0)\n",
      "Requirement already satisfied: mpmath<1.4,>=1.1.0 in c:\\users\\icebox\\miniconda3\\envs\\deepseek\\lib\\site-packages (from sympy>=1.13.3->torch) (1.3.0)\n",
      "Requirement already satisfied: huggingface-hub<1.0,>=0.34.0 in c:\\users\\icebox\\miniconda3\\envs\\deepseek\\lib\\site-packages (from transformers>=4.36.0->pymilvus.model>=0.3.0->pymilvus[model]) (0.35.3)\n",
      "Requirement already satisfied: packaging>=20.0 in c:\\users\\icebox\\miniconda3\\envs\\deepseek\\lib\\site-packages (from transformers>=4.36.0->pymilvus.model>=0.3.0->pymilvus[model]) (25.0)\n",
      "Requirement already satisfied: pyyaml>=5.1 in c:\\users\\icebox\\miniconda3\\envs\\deepseek\\lib\\site-packages (from transformers>=4.36.0->pymilvus.model>=0.3.0->pymilvus[model]) (6.0.3)\n",
      "Requirement already satisfied: regex!=2019.12.17 in c:\\users\\icebox\\miniconda3\\envs\\deepseek\\lib\\site-packages (from transformers>=4.36.0->pymilvus.model>=0.3.0->pymilvus[model]) (2025.9.18)\n",
      "Requirement already satisfied: tokenizers<=0.23.0,>=0.22.0 in c:\\users\\icebox\\miniconda3\\envs\\deepseek\\lib\\site-packages (from transformers>=4.36.0->pymilvus.model>=0.3.0->pymilvus[model]) (0.22.1)\n",
      "Requirement already satisfied: safetensors>=0.4.3 in c:\\users\\icebox\\miniconda3\\envs\\deepseek\\lib\\site-packages (from transformers>=4.36.0->pymilvus.model>=0.3.0->pymilvus[model]) (0.6.2)\n",
      "Requirement already satisfied: MarkupSafe>=2.0 in c:\\users\\icebox\\miniconda3\\envs\\deepseek\\lib\\site-packages (from jinja2->torch) (3.0.3)\n",
      "Requirement already satisfied: coloredlogs in c:\\users\\icebox\\miniconda3\\envs\\deepseek\\lib\\site-packages (from onnxruntime->pymilvus.model>=0.3.0->pymilvus[model]) (15.0.1)\n",
      "Requirement already satisfied: flatbuffers in c:\\users\\icebox\\miniconda3\\envs\\deepseek\\lib\\site-packages (from onnxruntime->pymilvus.model>=0.3.0->pymilvus[model]) (25.9.23)\n",
      "Requirement already satisfied: humanfriendly>=9.1 in c:\\users\\icebox\\miniconda3\\envs\\deepseek\\lib\\site-packages (from coloredlogs->onnxruntime->pymilvus.model>=0.3.0->pymilvus[model]) (10.0)\n",
      "Requirement already satisfied: pyreadline3 in c:\\users\\icebox\\miniconda3\\envs\\deepseek\\lib\\site-packages (from humanfriendly>=9.1->coloredlogs->onnxruntime->pymilvus.model>=0.3.0->pymilvus[model]) (3.5.4)\n",
      "Downloading hf_xet-1.1.10-cp37-abi3-win_amd64.whl (2.8 MB)\n",
      "   ---------------------------------------- 0.0/2.8 MB ? eta -:--:--\n",
      "   ---------------------------------------- 0.0/2.8 MB ? eta -:--:--\n",
      "   ---------------------------------------- 0.0/2.8 MB ? eta -:--:--\n",
      "   --- ------------------------------------ 0.3/2.8 MB ? eta -:--:--\n",
      "   ------- -------------------------------- 0.5/2.8 MB 1.9 MB/s eta 0:00:02\n",
      "   ----------------------------- ---------- 2.1/2.8 MB 4.3 MB/s eta 0:00:01\n",
      "   ---------------------------------------- 2.8/2.8 MB 5.1 MB/s  0:00:01\n",
      "Installing collected packages: hf_xet\n",
      "Successfully installed hf_xet-1.1.10\n"
     ]
    }
   ],
   "source": [
    "!pip install --upgrade pymilvus[model] openai requests tqdm torch dotenv hf_xet"
   ]
  },
  {
   "cell_type": "code",
   "execution_count": 2,
   "id": "7c9079ee-6e6e-420d-bbcd-cf76ccbd4807",
   "metadata": {},
   "outputs": [],
   "source": [
    "import os\n",
    "from dotenv import load_dotenv\n",
    "load_dotenv()\n",
    "api_key = os.getenv(\"DEEPSEEK_API_KEY\")"
   ]
  },
  {
   "cell_type": "code",
   "execution_count": 3,
   "id": "4d60cfd7-c343-4404-80b5-688831a2b08e",
   "metadata": {},
   "outputs": [],
   "source": [
    "from openai import OpenAI\n",
    "deepseek_client = OpenAI(\n",
    "    api_key = api_key,\n",
    "    base_url = \"https://api.deepseek.com\"\n",
    ")"
   ]
  },
  {
   "cell_type": "code",
   "execution_count": null,
   "id": "94a2b7be-4724-467d-b338-b03fa0c7cf2c",
   "metadata": {},
   "outputs": [
    {
     "name": "stderr",
     "output_type": "stream",
     "text": [
      "C:\\Users\\icebox\\miniconda3\\envs\\deepseek\\Lib\\site-packages\\tqdm\\auto.py:21: TqdmWarning: IProgress not found. Please update jupyter and ipywidgets. See https://ipywidgets.readthedocs.io/en/stable/user_install.html\n",
      "  from .autonotebook import tqdm as notebook_tqdm\n",
      "'(ProtocolError('Connection aborted.', ConnectionResetError(10054, '远程主机强迫关闭了一个现有的连接。', None, 10054, None)), '(Request ID: 5f647902-fe70-4e95-9831-3fcfd9d51ba4)')' thrown while requesting HEAD https://huggingface.co/GPTCache/paraphrase-albert-small-v2/resolve/main/tokenizer_config.json\n",
      "Retrying in 1s [Retry 1/5].\n",
      "'(ProtocolError('Connection aborted.', ConnectionResetError(10054, '远程主机强迫关闭了一个现有的连接。', None, 10054, None)), '(Request ID: 1672bf63-f6c9-4c4b-b55a-28726583cbb3)')' thrown while requesting HEAD https://huggingface.co/GPTCache/paraphrase-albert-small-v2/resolve/main/tokenizer_config.json\n",
      "Retrying in 2s [Retry 2/5].\n",
      "'(ProtocolError('Connection aborted.', ConnectionResetError(10054, '远程主机强迫关闭了一个现有的连接。', None, 10054, None)), '(Request ID: acc7df10-72ca-44d8-ac55-a00b3d396d83)')' thrown while requesting HEAD https://huggingface.co/GPTCache/paraphrase-albert-small-v2/resolve/main/tokenizer_config.json\n",
      "Retrying in 4s [Retry 3/5].\n",
      "'(ProtocolError('Connection aborted.', ConnectionResetError(10054, '远程主机强迫关闭了一个现有的连接。', None, 10054, None)), '(Request ID: 39d7a53b-5b50-4c56-8def-994b75f4f2f1)')' thrown while requesting HEAD https://huggingface.co/GPTCache/paraphrase-albert-small-v2/resolve/main/tokenizer_config.json\n",
      "Retrying in 8s [Retry 4/5].\n",
      "'(ProtocolError('Connection aborted.', ConnectionResetError(10054, '远程主机强迫关闭了一个现有的连接。', None, 10054, None)), '(Request ID: 0bf509a8-9eb1-4fe9-bc30-2af77b22f3fc)')' thrown while requesting HEAD https://huggingface.co/GPTCache/paraphrase-albert-small-v2/resolve/main/tokenizer_config.json\n",
      "Retrying in 8s [Retry 5/5].\n"
     ]
    }
   ],
   "source": [
    "from pymilvus import model as milvus_model\n",
    "embedding_model = milvus_model.DefaultEmbeddingFunction()"
   ]
  },
  {
   "cell_type": "code",
   "execution_count": null,
   "id": "402a5bc5-1d41-4c34-b485-03c51d166d33",
   "metadata": {},
   "outputs": [],
   "source": [
    "test_embedding = embedding_model.encode_queries([\"This is a test\"])[0]\n",
    "embedding_dim = len(test_embedding)\n",
    "print(embedding_dim)"
   ]
  },
  {
   "cell_type": "code",
   "execution_count": null,
   "id": "9918ba11-3876-42af-8137-f61181d7cc72",
   "metadata": {},
   "outputs": [],
   "source": []
  }
 ],
 "metadata": {
  "kernelspec": {
   "display_name": "Python 3 (ipykernel)",
   "language": "python",
   "name": "python3"
  },
  "language_info": {
   "codemirror_mode": {
    "name": "ipython",
    "version": 3
   },
   "file_extension": ".py",
   "mimetype": "text/x-python",
   "name": "python",
   "nbconvert_exporter": "python",
   "pygments_lexer": "ipython3",
   "version": "3.13.7"
  }
 },
 "nbformat": 4,
 "nbformat_minor": 5
}
